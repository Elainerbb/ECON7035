{
  "cells": [
    {
      "cell_type": "markdown",
      "id": "intro",
      "metadata": {
        "id": "intro"
      },
      "source": [
        "# Fill-in-the-Blank Exercise: Data Splitting & Preprocessing\n",
        "\n",
        "In this exercise, complete the blanks (_____). Your task is to:\n",
        "\n",
        "1. Import the necessary libraries.\n",
        "2. Simulate sample ice cream sales data.\n",
        "3. Split the data into training and test sets.\n",
        "4. Scale the training data using `fit_transform` and the test data using `transform`.\n",
        "\n",
        "Fill in the blanks where indicated."
      ]
    },
    {
      "cell_type": "code",
      "id": "import_libraries",
      "metadata": {
        "id": "import_libraries",
        "outputId": "100c0839-b535-469e-8d26-36d0273fcad8",
        "colab": {
          "base_uri": "https://localhost:8080/"
        }
      },
      "source": [
        "# Fill in the blanks to import libraries\n",
        "import numpy as np\n",
        "import pandas as pd\n",
        "import matplotlib.pyplot as plt\n",
        "\n",
        "from datetime import datetime, timedelta\n",
        "from sklearn.model_selection import train_test_split\n",
        "from sklearn.preprocessing import StandardScaler\n",
        "\n",
        "print(\"Libraries imported!\")"
      ],
      "execution_count": 2,
      "outputs": [
        {
          "output_type": "stream",
          "name": "stdout",
          "text": [
            "Libraries imported!\n"
          ]
        }
      ]
    },
    {
      "cell_type": "code",
      "id": "simulate_data",
      "metadata": {
        "id": "simulate_data",
        "outputId": "20b5a479-2d35-4fa9-c700-63aa694b6dda",
        "colab": {
          "base_uri": "https://localhost:8080/"
        }
      },
      "source": [
        "# Fill in the blanks to simulate 90 days of ice cream sales data\n",
        "np.random.seed(42)\n",
        "n_days = 90\n",
        "start_date = datetime(2024, 1, 1)\n",
        "dates = [start_date + timedelta(days=i) for i in range(n_days)]  # Hint: use n_days\n",
        "\n",
        "temperatures = np.random.normal(loc=25, scale=3, size=n_days).round(1)  # Use n_days\n",
        "promotions = np.random.choice([0, 1], size=n_days, p=[0.7, 0.3])  # Use n_days\n",
        "\n",
        "# Create sales using the formula: 300 + 12 * temperature + 60 * promotion + noise\n",
        "sales = 300 + 12 * temperatures + 60 * promotions + np.random.normal(0, 20, size=n_days)\n",
        "\n",
        "df = pd.DataFrame({\n",
        "    'date': dates,\n",
        "    'temperature': temperatures,\n",
        "    'promotion': promotions,\n",
        "    'sales': sales.round().astype(int)\n",
        "})\n",
        "\n",
        "print(df.head())\n",
        "print(\"Data simulation complete!\")"
      ],
      "execution_count": 3,
      "outputs": [
        {
          "output_type": "stream",
          "name": "stdout",
          "text": [
            "        date  temperature  promotion  sales\n",
            "0 2024-01-01         26.5          1    715\n",
            "1 2024-01-02         24.6          0    605\n",
            "2 2024-01-03         26.9          1    659\n",
            "3 2024-01-04         29.6          1    728\n",
            "4 2024-01-05         24.3          0    572\n",
            "Data simulation complete!\n"
          ]
        }
      ]
    },
    {
      "cell_type": "code",
      "id": "data_split_scale",
      "metadata": {
        "id": "data_split_scale",
        "outputId": "c724fe19-34a4-47f7-aef4-e5221a11b887",
        "colab": {
          "base_uri": "https://localhost:8080/"
        }
      },
      "source": [
        "# Fill in the blanks to split data and apply StandardScaler\n",
        "# Split the data into features (X) and target (y)\n",
        "X = df[['temperature', 'promotion']]\n",
        "y = df['sales']\n",
        "\n",
        "# Split data into training and test sets (80% training, 20% test)\n",
        "X_train, X_test, y_train, y_test = train_test_split(X, y, test_size=0.2, random_state=42)\n",
        "\n",
        "# Initialize StandardScaler\n",
        "scaler = StandardScaler()\n",
        "\n",
        "# Scale the 'temperature' column on the training set (use fit_transform) and test set (use transform)\n",
        "X_train_scaled = X_train.copy()\n",
        "X_train_scaled['temperature'] = scaler.fit_transform(X_train[['temperature']])\n",
        "\n",
        "X_test_scaled = X_test.copy()\n",
        "X_test_scaled['temperature'] = scaler.transform(X_test[['temperature']])\n",
        "\n",
        "print(\"Data splitting and scaling complete!\")\n",
        "print(X_train_scaled.head())"
      ],
      "execution_count": 4,
      "outputs": [
        {
          "output_type": "stream",
          "name": "stdout",
          "text": [
            "Data splitting and scaling complete!\n",
            "    temperature  promotion\n",
            "49    -1.732071          0\n",
            "62    -1.036150          0\n",
            "73     1.747536          1\n",
            "69    -0.549005          0\n",
            "76     0.216509          0\n"
          ]
        }
      ]
    },
    {
      "cell_type": "markdown",
      "id": "reflection",
      "metadata": {
        "id": "reflection"
      },
      "source": [
        "## Reflection\n",
        "\n",
        "In your own words, explain why it is important to use `fit_transform` on the training data and only `transform` on the test data."
      ]
    },
    {
      "cell_type": "code",
      "id": "reflection_answer",
      "metadata": {
        "id": "reflection_answer",
        "outputId": "d32a66f7-fa96-4b70-85e5-aa13aafbb0f9",
        "colab": {
          "base_uri": "https://localhost:8080/"
        }
      },
      "source": [
        "# Write your reflection below (feel free to use a comment or print statement)\n",
        "print(\"Reflection: To prevent data leakage by using fit_transform on the training data and only transform on the test data\")"
      ],
      "execution_count": 5,
      "outputs": [
        {
          "output_type": "stream",
          "name": "stdout",
          "text": [
            "Reflection: To prevent data leakage by using fit_transform on the training data and only transform on the test data\n"
          ]
        }
      ]
    }
  ],
  "metadata": {
    "kernelspec": {
      "display_name": "Python 3",
      "language": "python",
      "name": "python3"
    },
    "language_info": {
      "name": "python",
      "version": "3.x"
    },
    "colab": {
      "provenance": []
    }
  },
  "nbformat": 4,
  "nbformat_minor": 5
}